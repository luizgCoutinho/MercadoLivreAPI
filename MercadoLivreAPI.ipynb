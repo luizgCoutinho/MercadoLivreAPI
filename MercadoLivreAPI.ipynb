{
  "nbformat": 4,
  "nbformat_minor": 0,
  "metadata": {
    "colab": {
      "provenance": [],
      "include_colab_link": true
    },
    "kernelspec": {
      "name": "python3",
      "display_name": "Python 3"
    }
  },
  "cells": [
    {
      "cell_type": "markdown",
      "metadata": {
        "id": "view-in-github",
        "colab_type": "text"
      },
      "source": [
        "<a href=\"https://colab.research.google.com/github/luizgCoutinho/MercadoLivreAPI/blob/main/MercadoLivreAPI.ipynb\" target=\"_parent\"><img src=\"https://colab.research.google.com/assets/colab-badge.svg\" alt=\"Open In Colab\"/></a>"
      ]
    },
    {
      "cell_type": "markdown",
      "metadata": {
        "id": "Y6QILOdpOjwv"
      },
      "source": [
        "# **Processamento de Linguagem Natural [2023.Q3]**\n",
        "Prof. Alexandre Donizeti Alves"
      ]
    },
    {
      "cell_type": "markdown",
      "metadata": {
        "id": "8m67OOx9MX_3"
      },
      "source": [
        "### **ATIVIDADE PRÁTICA 03 [Tutorial sobre uma API]**\n",
        "\n",
        "---"
      ]
    },
    {
      "cell_type": "markdown",
      "metadata": {
        "id": "5Gk0nHKabBT-"
      },
      "source": [
        "A **ATIVIDADE PRÁTICA 03** deve ser feita utilizando o **Google Colab** com uma conta\n",
        "sua vinculada ao Gmail. O link do seu notebook, armazenado no Google Drive, além do link de um repositório no GitHub e os principais resultados da atividade, devem ser enviados usando o seguinte formulário:\n",
        "\n",
        "> https://forms.gle/nPsWnUuE5GCeXaiU8 (**AINDA EM CONSTRUÇÃO**)\n",
        "\n",
        "\n",
        "**IMPORTANTE**: A submissão deve ser feita APENAS POR UM INTEGRANTE DA EQUIPE até o dia 02/11 (quinta-feira - até às 23h59). Por favor, lembre-se de dar permissão de ACESSO IRRESTRITO para o professor da disciplina de PLN."
      ]
    },
    {
      "cell_type": "markdown",
      "metadata": {
        "id": "D7hJlilKM485"
      },
      "source": [
        "### **EQUIPE**\n",
        "\n",
        "---"
      ]
    },
    {
      "cell_type": "markdown",
      "source": [
        "**POR FAVOR, PREENCHER OS INTEGRANDES DA SUA EQUIPE:**\n",
        "\n",
        "\n",
        "**Integrante 01:**\n",
        "\n",
        "`Luiz Gustavo Barros Coutinho Paiva RA: 11202020464`\n",
        "\n"
      ],
      "metadata": {
        "id": "tnIArN0QY-Ek"
      }
    },
    {
      "cell_type": "markdown",
      "source": [
        "### **API**\n",
        "---"
      ],
      "metadata": {
        "id": "6yExhaebs-nD"
      }
    },
    {
      "cell_type": "markdown",
      "source": [
        "**QUAL A API SELECIONADA POR SUA EQUIPE?**\n",
        "\n",
        "`API: API Mercado Livre`\n",
        "\n",
        "`Site oficial: https://developers.mercadolivre.com.br/`\n",
        "\n",
        "`Link para a documentação oficial: https://developers.mercadolivre.com.br/pt_br/minha-primeira-aplicacao`"
      ],
      "metadata": {
        "id": "DjJM_qhEZRy6"
      }
    },
    {
      "cell_type": "markdown",
      "metadata": {
        "id": "EtjgWQRzNphL"
      },
      "source": [
        "### **DESCRIÇÃO**\n",
        "---"
      ]
    },
    {
      "cell_type": "markdown",
      "source": [
        "Implementar um `notebook` no `Google Colab` para demonstrar passo a passo como usar uma determinada **API** em `Python`, ou seja, criar um **TUTORIAL** destacando desde a instalação e configuração da **API** até as principais finalidades. O **TUTORIAL** deve ser o mais completo possível, com diversos exemplos de uso e permitindo ser facilmente reproduzido.\n",
        "\n",
        "A **API** deve ser selecionada na seguinte planilha:\n",
        "\n",
        "https://docs.google.com/spreadsheets/d/1-Q1szJ3UmoE2_3LtcRQyqid5fPIcnpsR3XAPnoxLj2o/edit?usp=sharing\n",
        "\n",
        ">\n",
        "\n",
        "**IMPORTANTE:** É obrigatório usar o e-mail da UFABC.\n",
        "\n",
        ">\n",
        "\n",
        "**DICA:** Por favor, insira o seu nome ou da sua equipe na ordem definida na planilha. A escolha da **API** deve ser feita de acordo com a lista disponibilizada na planilha. Cada **API** só pode ser escolhida por, no **MÁXIMO**, 2 equipes."
      ],
      "metadata": {
        "id": "fXTwkiiGs2BV"
      }
    },
    {
      "cell_type": "markdown",
      "source": [
        "### **ROTEIRO PARA APRESENTAÇÃO DE UMA API**\n",
        "\n",
        "---\n",
        ">\n",
        "\n",
        "\n",
        "**IMPORTANTE**: consulta feita no ChatGPT\n",
        "\n",
        ">\n",
        "\n",
        "Como escrever um tutorial sobre uma API em Python usando o Google Colab com foco nas etapas essenciais. Aqui está um guia rápido:\n",
        "\n",
        ">\n",
        "\n",
        "* **Passo 01: Introdução**\n",
        "\n",
        "  >  Apresente a API que você está explicando.\n",
        "\n",
        "  >  Explique por que é útil ou relevante.\n",
        "\n",
        "* **Passo 02: Configuração no Google Colab**\n",
        "\n",
        "  > Explique como os leitores podem abrir um novo notebook no Google Colab.\n",
        "\n",
        "  > Mostre como importar bibliotecas necessárias.\n",
        "\n",
        "  > Instrua sobre como instalar quaisquer bibliotecas adicionais, se necessário.\n",
        "\n",
        "* **Passo 03: Autenticação (se aplicável)**\n",
        "\n",
        "  > Descreva como configurar a autenticação, caso a API exija.\n",
        "\n",
        "  > Forneça orientações sobre a obtenção de chaves de API ou tokens.\n",
        "\n",
        "* **Passo 04: Utilização Básica da API**\n",
        "\n",
        "  > Demonstre como fazer uma solicitação simples à API.\n",
        "\n",
        "  > Mostre como processar a resposta da API.\n",
        "\n",
        "* **Passo 05: Exemplos Práticos**\n",
        "\n",
        "  > Forneça exemplos práticos e úteis que os leitores podem seguir.\n",
        "\n",
        "  > Mostre como aplicar a API em cenários do mundo real.\n",
        "\n",
        "\n",
        "* **Passo 06: Considerações**\n",
        "\n",
        "  > Recapitule os principais pontos do tutorial.\n",
        "\n",
        "  > Incentive os leitores a explorar mais a API e experimentar por conta própria.\n",
        "\n",
        "* **Passo 07: Publicação**\n",
        "\n",
        "   > Considere compartilhar seu tutorial em plataformas como Medium, GitHub (obrigatório) ou seu blog pessoal.\n",
        "\n",
        "* **Passo 08: Promoção**\n",
        "\n",
        "  > Compartilhe seu tutorial nas redes sociais, grupos de desenvolvedores e fóruns relevantes.\n",
        "\n",
        "**IMPORTANTE**: Lembre-se de manter o tutorial curto e direto ao ponto. Use exemplos de código eficazes e forneça informações práticas que os leitores possam seguir facilmente. O Google Colab é uma ótima plataforma para compartilhar tutoriais, pois permite que os leitores executem o código diretamente no navegador.\n"
      ],
      "metadata": {
        "id": "wbICIIGcYPNf"
      }
    },
    {
      "cell_type": "markdown",
      "source": [
        "### **CRITÉRIOS DE AVALIAÇÃO**\n",
        "---\n"
      ],
      "metadata": {
        "id": "gWsBYQNtxmum"
      }
    },
    {
      "cell_type": "markdown",
      "source": [
        "As 3 equipes que **criarem os melhores tutoriais**  terão o peso diminuido na AVALIAÇÃO (Prova Escrita) em **25%** (caindo de 40 para 30).\n",
        "\n",
        "**IMPORTANTE**: a diminuição no peso da AVALIAÇÃO será aplicado para todos os membros da equipe.\n",
        "\n",
        "\n",
        "\n"
      ],
      "metadata": {
        "id": "5iHdx4BXYruQ"
      }
    },
    {
      "cell_type": "markdown",
      "source": [
        "### **TUTORIAL**\n",
        "---"
      ],
      "metadata": {
        "id": "nw09lujGvfjc"
      }
    },
    {
      "cell_type": "markdown",
      "source": [
        "**INFORMAR O NOME DA API AQUI**"
      ],
      "metadata": {
        "id": "5q9zcrJj0n4H"
      }
    },
    {
      "cell_type": "markdown",
      "source": [
        "**SUGESTÃO**: Usar o **ROTEIRO** para apresentação de uma **API**"
      ],
      "metadata": {
        "id": "AD7LiZNAaMzv"
      }
    },
    {
      "cell_type": "markdown",
      "source": [
        "#### **INTRODUÇÃO**"
      ],
      "metadata": {
        "id": "ZM2EJhRIaaa2"
      }
    },
    {
      "cell_type": "markdown",
      "source": [
        "**Descrição da API**"
      ],
      "metadata": {
        "id": "FjG5RIW5bMfd"
      }
    },
    {
      "cell_type": "markdown",
      "source": [
        "inserir texto aqui...\n",
        "\n",
        "\n",
        "\n"
      ],
      "metadata": {
        "id": "7kndSzDVbQkd"
      }
    },
    {
      "cell_type": "markdown",
      "source": [
        "#### **CONFIGURAÇÃO**"
      ],
      "metadata": {
        "id": "5DIH_lmdaqrh"
      }
    },
    {
      "cell_type": "markdown",
      "source": [
        "A configuração do aplicativo e a criação do Client ID e Secret Key deve ser feita no site do Mercado Livre DevCenter. link: https://developers.mercadolivre.com.br/devcenter"
      ],
      "metadata": {
        "id": "h0MuN9lsYyvk"
      }
    },
    {
      "cell_type": "markdown",
      "source": [
        "![criarnovaaplicação.png](data:image/png;base64,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)"
      ],
      "metadata": {
        "id": "UtGopvwcZgyL"
      }
    },
    {
      "cell_type": "markdown",
      "source": [
        "![dadosdaAPI.png](data:image/png;base64,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)"
      ],
      "metadata": {
        "id": "0JzpvLsQZsuM"
      }
    },
    {
      "cell_type": "markdown",
      "source": [
        "![Chave.png](data:image/png;base64,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)"
      ],
      "metadata": {
        "id": "XL7MppumZ0AL"
      }
    },
    {
      "cell_type": "markdown",
      "source": [
        "A API deve ser vinculada a um \"URI de redirect\", para isso é necessario hospedar uma aplicação. (Irei fazer o deploy com Heroku)"
      ],
      "metadata": {
        "id": "yX1q8n_oaCqb"
      }
    },
    {
      "cell_type": "code",
      "source": [
        "CLIENT_ID= '764930658582430'\n",
        "CLIENT_SECRET= 'leEOqCTfwFV2U81hhf4IADVFQThhNOUz'\n",
        "REDIRECT_URI='http://localhost:3000'"
      ],
      "metadata": {
        "id": "oqM3mRBsbBYZ"
      },
      "execution_count": 2,
      "outputs": []
    },
    {
      "cell_type": "markdown",
      "source": [
        "#### **AUTENTICAÇÃO**\n"
      ],
      "metadata": {
        "id": "SwZgsj4narLo"
      }
    },
    {
      "cell_type": "markdown",
      "source": [
        "Para obter a autorização foi necessario fazer a requisição de um codigo através da seguinte URL contento o clientId e o redirectURI:\n",
        "\n",
        "https://auth.mercadolivre.com.br/authorization?response_type=code&client_id=764930658582430&redirect_uri=http://localhost:3000"
      ],
      "metadata": {
        "id": "6nLL3ssfcHQ7"
      }
    },
    {
      "cell_type": "code",
      "source": [
        "CODE='TG-654429dcb37f9100012752bc-434186552'"
      ],
      "metadata": {
        "id": "uzdu2MfwbA1R"
      },
      "execution_count": 3,
      "outputs": []
    },
    {
      "cell_type": "markdown",
      "source": [
        "Para conferir se o parâmetro CODE foi adicionado se deve acessar a seguinte URL:\n",
        "\n",
        "http://localhost:3000/?code=TG-654429dcb37f9100012752bc-434186552&state=ABC1234"
      ],
      "metadata": {
        "id": "LK4mjAU3eG_6"
      }
    },
    {
      "cell_type": "markdown",
      "source": [
        "**Obter token de acesso e token de atualização**"
      ],
      "metadata": {
        "id": "9sPydbIYkXC6"
      }
    },
    {
      "cell_type": "code",
      "source": [
        "import requests\n",
        "\n",
        "url = \"https://api.mercadolibre.com/oauth/token\"\n",
        "\n",
        "payload=f'grant_type=authorization_code&client_id={CLIENT_ID}&client_secret={CLIENT_SECRET}&code={CODE}&redirect_uri={REDIRECT_URI}'\n",
        "headers = {\n",
        "  'accept': 'application/json',\n",
        "  'content-type': 'application/x-www-form-urlencoded'\n",
        "}\n",
        "\n",
        "response = requests.request(\"POST\", url, headers=headers, data=payload)\n",
        "\n",
        "print(response.text)"
      ],
      "metadata": {
        "colab": {
          "base_uri": "https://localhost:8080/"
        },
        "id": "u1TFh840kaD0",
        "outputId": "0837a5cc-bf13-4846-b8e0-f0925e10d8ac"
      },
      "execution_count": 4,
      "outputs": [
        {
          "output_type": "stream",
          "name": "stdout",
          "text": [
            "{\"error_description\":\"Error validating grant. Your authorization code or refresh token may be expired or it was already used\",\"error\":\"invalid_grant\",\"status\":400,\"cause\":[]}\n"
          ]
        }
      ]
    },
    {
      "cell_type": "markdown",
      "source": [
        "**Refresh token**: O access token gerado expirará após 6 horas, desde solicitado."
      ],
      "metadata": {
        "id": "Yptht9Y5mAZh"
      }
    },
    {
      "cell_type": "code",
      "source": [
        "REFRESH_TOKEN = 'TG-62ce36277a74c30012bf2546-116499542'"
      ],
      "metadata": {
        "id": "YaHsq8-fmyCY"
      },
      "execution_count": 5,
      "outputs": []
    },
    {
      "cell_type": "code",
      "source": [
        "import requests\n",
        "\n",
        "url = \"https://api.mercadolibre.com/oauth/token\"\n",
        "\n",
        "payload=f'grant_type=refresh_token&client_id={CLIENT_ID}&client_secret={CLIENT_SECRET}&refresh_token={REFRESH_TOKEN}'\n",
        "headers = {\n",
        "  'accept': 'application/json',\n",
        "  'content-type': 'application/x-www-form-urlencoded'\n",
        "}\n",
        "\n",
        "response = requests.request(\"POST\", url, headers=headers, data=payload)\n",
        "\n",
        "print(response.text)"
      ],
      "metadata": {
        "colab": {
          "base_uri": "https://localhost:8080/"
        },
        "id": "hkGD9mlqmCR8",
        "outputId": "9d8e1b01-9860-4355-8ba0-92ba21c02b0c"
      },
      "execution_count": 6,
      "outputs": [
        {
          "output_type": "stream",
          "name": "stdout",
          "text": [
            "{\"error_description\":\"Error validating grant. Your authorization code or refresh token may be expired or it was already used\",\"error\":\"invalid_grant\",\"status\":400,\"cause\":[]}\n"
          ]
        }
      ]
    },
    {
      "cell_type": "markdown",
      "source": [
        "Ocorreu erro porque o REDIRECT_URI ainda não foi hospedado\n"
      ],
      "metadata": {
        "id": "dS3L5ZB9lody"
      }
    },
    {
      "cell_type": "markdown",
      "source": [
        "#### **UTILIZAÇÃO BÁSICA**"
      ],
      "metadata": {
        "id": "ZjXBfNHwarfV"
      }
    },
    {
      "cell_type": "code",
      "source": [
        "\n",
        "\n"
      ],
      "metadata": {
        "id": "bNqB40PlbAWx"
      },
      "execution_count": null,
      "outputs": []
    },
    {
      "cell_type": "markdown",
      "source": [
        "#### **EXEMPLOS PRÁTICOS**"
      ],
      "metadata": {
        "id": "marqph_raryN"
      }
    },
    {
      "cell_type": "code",
      "source": [
        "# inserir código\n",
        "\n",
        "\n"
      ],
      "metadata": {
        "id": "aL49vegTa_4e"
      },
      "execution_count": null,
      "outputs": []
    },
    {
      "cell_type": "markdown",
      "source": [
        "#### **CONSIDERAÇÕES**"
      ],
      "metadata": {
        "id": "xIP2DoACa7of"
      }
    },
    {
      "cell_type": "markdown",
      "source": [
        "inserir texto aqui"
      ],
      "metadata": {
        "id": "dCRN197XbcQH"
      }
    },
    {
      "cell_type": "markdown",
      "source": [
        "**REFERÊNCIAS**\n",
        "\n",
        "---\n",
        "\n"
      ],
      "metadata": {
        "id": "DJa20CJRpQ7t"
      }
    },
    {
      "cell_type": "markdown",
      "source": [
        "Informar todas as referências usadas para a elaboração do **TUTORIAL**. Citar, por exemplo: vídeos no **YouTube**, artigos no **Medium** etc.\n",
        "\n",
        "**IMPORTANTE**: considerar referências **RECENTES** (3 meses)."
      ],
      "metadata": {
        "id": "GxpuIOR3pUWr"
      }
    }
  ]
}